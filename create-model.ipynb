{
 "cells": [
  {
   "cell_type": "code",
   "execution_count": 2,
   "metadata": {
    "tags": []
   },
   "outputs": [
    {
     "name": "stdout",
     "output_type": "stream",
     "text": [
      "Success - the MySageMakerInstance is in the us-east-1 region. You will use the 811284229777.dkr.ecr.us-east-1.amazonaws.com/xgboost:latest container for your SageMaker endpoint.\n"
     ]
    }
   ],
   "source": [
    "# import libraries\n",
    "import boto3, re, sys, math, json, os, sagemaker, urllib.request\n",
    "from sagemaker import get_execution_role\n",
    "import numpy as np\n",
    "import pandas as pd\n",
    "import matplotlib.pyplot as plt\n",
    "from IPython.display import Image\n",
    "from IPython.display import display\n",
    "from time import gmtime, strftime\n",
    "from sagemaker.predictor import csv_serializer\n",
    "\n",
    "# Define IAM role\n",
    "role = get_execution_role()\n",
    "prefix = 'sagemaker/DEMO-xgboost-dm'\n",
    "my_region = boto3.session.Session().region_name # set the region of the instance\n",
    "\n",
    "# this line automatically looks for the XGBoost image URI and builds an XGBoost container.\n",
    "xgboost_container = sagemaker.image_uris.retrieve(\"xgboost\", my_region, \"latest\")\n",
    "\n",
    "print(\"Success - the MySageMakerInstance is in the \" + my_region + \" region. You will use the \" + xgboost_container + \" container for your SageMaker endpoint.\")"
   ]
  },
  {
   "cell_type": "code",
   "execution_count": 3,
   "metadata": {
    "tags": []
   },
   "outputs": [
    {
     "name": "stdout",
     "output_type": "stream",
     "text": [
      "S3 bucket created successfully\n"
     ]
    }
   ],
   "source": [
    "bucket_name = 'sbabs-sagemaker-models' # <--- CHANGE THIS VARIABLE TO A UNIQUE NAME FOR YOUR BUCKET\n",
    "s3 = boto3.resource('s3')\n",
    "try:\n",
    "    if  my_region == 'us-east-1':\n",
    "      s3.create_bucket(Bucket=bucket_name)\n",
    "    else: \n",
    "      s3.create_bucket(Bucket=bucket_name, CreateBucketConfiguration={ 'LocationConstraint': my_region })\n",
    "    print('S3 bucket created successfully')\n",
    "except Exception as e:\n",
    "    print('S3 error: ',e)"
   ]
  },
  {
   "cell_type": "code",
   "execution_count": 4,
   "metadata": {
    "tags": []
   },
   "outputs": [
    {
     "name": "stdout",
     "output_type": "stream",
     "text": [
      "Success: downloaded bank_clean.csv.\n",
      "Success: Data loaded into dataframe.\n"
     ]
    }
   ],
   "source": [
    "try:\n",
    "  urllib.request.urlretrieve (\"https://d1.awsstatic.com/tmt/build-train-deploy-machine-learning-model-sagemaker/bank_clean.27f01fbbdf43271788427f3682996ae29ceca05d.csv\", \"bank_clean.csv\")\n",
    "  print('Success: downloaded bank_clean.csv.')\n",
    "except Exception as e:\n",
    "  print('Data load error: ',e)\n",
    "\n",
    "try:\n",
    "  model_data = pd.read_csv('./bank_clean.csv',index_col=0)\n",
    "  print('Success: Data loaded into dataframe.')\n",
    "except Exception as e:\n",
    "    print('Data load error: ',e)"
   ]
  },
  {
   "cell_type": "code",
   "execution_count": 5,
   "metadata": {
    "tags": []
   },
   "outputs": [
    {
     "name": "stdout",
     "output_type": "stream",
     "text": [
      "(28831, 61) (12357, 61)\n"
     ]
    }
   ],
   "source": [
    "train_data, test_data = np.split(model_data.sample(frac=1, random_state=1729), [int(0.7 * len(model_data))])\n",
    "print(train_data.shape, test_data.shape)"
   ]
  },
  {
   "cell_type": "code",
   "execution_count": 11,
   "metadata": {
    "tags": []
   },
   "outputs": [],
   "source": [
    "pd.concat([train_data['y_yes'], train_data.drop(['y_no', 'y_yes'], axis=1)], axis=1).to_csv('train.csv', index=False, header=False)\n",
    "boto3.Session().resource('s3').Bucket(bucket_name).Object(os.path.join(prefix, 'train/train.csv')).upload_file('train.csv')\n",
    "s3_input_train = sagemaker.inputs.TrainingInput(s3_data='s3://{}/{}/train'.format(bucket_name, prefix), content_type='csv')"
   ]
  },
  {
   "cell_type": "code",
   "execution_count": 13,
   "metadata": {
    "tags": []
   },
   "outputs": [],
   "source": [
    "sess = sagemaker.Session()\n",
    "xgb = sagemaker.estimator.Estimator(xgboost_container,role, instance_count=1, instance_type='ml.m4.xlarge',output_path='s3://{}/{}/output'.format(bucket_name, prefix),sagemaker_session=sess)\n",
    "xgb.set_hyperparameters(max_depth=5,eta=0.2,gamma=4,min_child_weight=6,subsample=0.8,silent=0,objective='binary:logistic',num_round=100)"
   ]
  },
  {
   "cell_type": "code",
   "execution_count": 14,
   "metadata": {
    "tags": []
   },
   "outputs": [
    {
     "name": "stderr",
     "output_type": "stream",
     "text": [
      "INFO:sagemaker:Creating training-job with name: xgboost-2023-02-26-01-23-46-812\n"
     ]
    },
    {
     "name": "stdout",
     "output_type": "stream",
     "text": [
      "2023-02-26 01:23:46 Starting - Starting the training job......\n",
      "2023-02-26 01:24:22 Starting - Preparing the instances for training......\n",
      "2023-02-26 01:25:41 Downloading - Downloading input data...\n",
      "2023-02-26 01:26:11 Training - Downloading the training image...\n",
      "2023-02-26 01:26:47 Training - Training image download completed. Training in progress...\u001b[34mArguments: train\u001b[0m\n",
      "\u001b[34m[2023-02-26:01:26:57:INFO] Running standalone xgboost training.\u001b[0m\n",
      "\u001b[34m[2023-02-26:01:26:57:INFO] Path /opt/ml/input/data/validation does not exist!\u001b[0m\n",
      "\u001b[34m[2023-02-26:01:26:57:INFO] File size need to be processed in the node: 3.38mb. Available memory size in the node: 8599.0mb\u001b[0m\n",
      "\u001b[34m[2023-02-26:01:26:57:INFO] Determined delimiter of CSV input is ','\u001b[0m\n",
      "\u001b[34m[01:26:57] S3DistributionType set as FullyReplicated\u001b[0m\n",
      "\u001b[34m[01:26:57] 28831x59 matrix with 1701029 entries loaded from /opt/ml/input/data/train?format=csv&label_column=0&delimiter=,\u001b[0m\n",
      "\u001b[34m[01:26:58] src/tree/updater_prune.cc:74: tree pruning end, 1 roots, 30 extra nodes, 14 pruned nodes, max_depth=5\u001b[0m\n",
      "\u001b[34m[0]#011train-error:0.100482\u001b[0m\n",
      "\u001b[34m[01:26:58] src/tree/updater_prune.cc:74: tree pruning end, 1 roots, 30 extra nodes, 14 pruned nodes, max_depth=5\u001b[0m\n",
      "\u001b[34m[1]#011train-error:0.099858\u001b[0m\n",
      "\u001b[34m[01:26:58] src/tree/updater_prune.cc:74: tree pruning end, 1 roots, 28 extra nodes, 22 pruned nodes, max_depth=5\u001b[0m\n",
      "\u001b[34m[2]#011train-error:0.099754\u001b[0m\n",
      "\u001b[34m[01:26:58] src/tree/updater_prune.cc:74: tree pruning end, 1 roots, 22 extra nodes, 14 pruned nodes, max_depth=5\u001b[0m\n",
      "\u001b[34m[3]#011train-error:0.099095\u001b[0m\n",
      "\u001b[34m[01:26:58] src/tree/updater_prune.cc:74: tree pruning end, 1 roots, 28 extra nodes, 12 pruned nodes, max_depth=5\u001b[0m\n",
      "\u001b[34m[4]#011train-error:0.098991\u001b[0m\n",
      "\u001b[34m[01:26:58] src/tree/updater_prune.cc:74: tree pruning end, 1 roots, 32 extra nodes, 14 pruned nodes, max_depth=5\u001b[0m\n",
      "\u001b[34m[5]#011train-error:0.099303\u001b[0m\n",
      "\u001b[34m[01:26:58] src/tree/updater_prune.cc:74: tree pruning end, 1 roots, 24 extra nodes, 18 pruned nodes, max_depth=5\u001b[0m\n",
      "\u001b[34m[6]#011train-error:0.099684\u001b[0m\n",
      "\u001b[34m[01:26:58] src/tree/updater_prune.cc:74: tree pruning end, 1 roots, 30 extra nodes, 22 pruned nodes, max_depth=5\u001b[0m\n",
      "\u001b[34m[7]#011train-error:0.09906\u001b[0m\n",
      "\u001b[34m[01:26:58] src/tree/updater_prune.cc:74: tree pruning end, 1 roots, 28 extra nodes, 20 pruned nodes, max_depth=5\u001b[0m\n",
      "\u001b[34m[8]#011train-error:0.098852\u001b[0m\n",
      "\u001b[34m[01:26:58] src/tree/updater_prune.cc:74: tree pruning end, 1 roots, 36 extra nodes, 8 pruned nodes, max_depth=5\u001b[0m\n",
      "\u001b[34m[9]#011train-error:0.098679\u001b[0m\n",
      "\u001b[34m[01:26:58] src/tree/updater_prune.cc:74: tree pruning end, 1 roots, 20 extra nodes, 16 pruned nodes, max_depth=5\u001b[0m\n",
      "\u001b[34m[10]#011train-error:0.098748\u001b[0m\n",
      "\u001b[34m[01:26:58] src/tree/updater_prune.cc:74: tree pruning end, 1 roots, 28 extra nodes, 24 pruned nodes, max_depth=5\u001b[0m\n",
      "\u001b[34m[11]#011train-error:0.098748\u001b[0m\n",
      "\u001b[34m[01:26:58] src/tree/updater_prune.cc:74: tree pruning end, 1 roots, 20 extra nodes, 22 pruned nodes, max_depth=5\u001b[0m\n",
      "\u001b[34m[12]#011train-error:0.098748\u001b[0m\n",
      "\u001b[34m[01:26:58] src/tree/updater_prune.cc:74: tree pruning end, 1 roots, 30 extra nodes, 10 pruned nodes, max_depth=5\u001b[0m\n",
      "\u001b[34m[13]#011train-error:0.09854\u001b[0m\n",
      "\u001b[34m[01:26:58] src/tree/updater_prune.cc:74: tree pruning end, 1 roots, 22 extra nodes, 20 pruned nodes, max_depth=5\u001b[0m\n",
      "\u001b[34m[14]#011train-error:0.098574\u001b[0m\n",
      "\u001b[34m[01:26:58] src/tree/updater_prune.cc:74: tree pruning end, 1 roots, 24 extra nodes, 20 pruned nodes, max_depth=5\u001b[0m\n",
      "\u001b[34m[15]#011train-error:0.098609\u001b[0m\n",
      "\u001b[34m[01:26:58] src/tree/updater_prune.cc:74: tree pruning end, 1 roots, 32 extra nodes, 16 pruned nodes, max_depth=5\u001b[0m\n",
      "\u001b[34m[16]#011train-error:0.098817\u001b[0m\n",
      "\u001b[34m[01:26:58] src/tree/updater_prune.cc:74: tree pruning end, 1 roots, 18 extra nodes, 16 pruned nodes, max_depth=5\u001b[0m\n",
      "\u001b[34m[17]#011train-error:0.098817\u001b[0m\n",
      "\u001b[34m[01:26:58] src/tree/updater_prune.cc:74: tree pruning end, 1 roots, 22 extra nodes, 18 pruned nodes, max_depth=5\u001b[0m\n",
      "\u001b[34m[18]#011train-error:0.098679\u001b[0m\n",
      "\u001b[34m[01:26:58] src/tree/updater_prune.cc:74: tree pruning end, 1 roots, 30 extra nodes, 16 pruned nodes, max_depth=5\u001b[0m\n",
      "\u001b[34m[19]#011train-error:0.098679\u001b[0m\n",
      "\u001b[34m[01:26:58] src/tree/updater_prune.cc:74: tree pruning end, 1 roots, 20 extra nodes, 12 pruned nodes, max_depth=5\u001b[0m\n",
      "\u001b[34m[20]#011train-error:0.098713\u001b[0m\n",
      "\u001b[34m[01:26:58] src/tree/updater_prune.cc:74: tree pruning end, 1 roots, 30 extra nodes, 10 pruned nodes, max_depth=5\u001b[0m\n",
      "\u001b[34m[21]#011train-error:0.098505\u001b[0m\n",
      "\u001b[34m[01:26:58] src/tree/updater_prune.cc:74: tree pruning end, 1 roots, 30 extra nodes, 14 pruned nodes, max_depth=5\u001b[0m\n",
      "\u001b[34m[22]#011train-error:0.098401\u001b[0m\n",
      "\u001b[34m[01:26:58] src/tree/updater_prune.cc:74: tree pruning end, 1 roots, 26 extra nodes, 8 pruned nodes, max_depth=5\u001b[0m\n",
      "\u001b[34m[23]#011train-error:0.098332\u001b[0m\n",
      "\u001b[34m[01:26:58] src/tree/updater_prune.cc:74: tree pruning end, 1 roots, 34 extra nodes, 6 pruned nodes, max_depth=5\u001b[0m\n",
      "\u001b[34m[24]#011train-error:0.098332\u001b[0m\n",
      "\u001b[34m[01:26:59] src/tree/updater_prune.cc:74: tree pruning end, 1 roots, 24 extra nodes, 6 pruned nodes, max_depth=5\u001b[0m\n",
      "\u001b[34m[25]#011train-error:0.09795\u001b[0m\n",
      "\u001b[34m[01:26:59] src/tree/updater_prune.cc:74: tree pruning end, 1 roots, 20 extra nodes, 12 pruned nodes, max_depth=5\u001b[0m\n",
      "\u001b[34m[26]#011train-error:0.098262\u001b[0m\n",
      "\u001b[34m[01:26:59] src/tree/updater_prune.cc:74: tree pruning end, 1 roots, 22 extra nodes, 24 pruned nodes, max_depth=5\u001b[0m\n",
      "\u001b[34m[27]#011train-error:0.098193\u001b[0m\n",
      "\u001b[34m[01:26:59] src/tree/updater_prune.cc:74: tree pruning end, 1 roots, 8 extra nodes, 24 pruned nodes, max_depth=3\u001b[0m\n",
      "\u001b[34m[28]#011train-error:0.097985\u001b[0m\n",
      "\u001b[34m[01:26:59] src/tree/updater_prune.cc:74: tree pruning end, 1 roots, 20 extra nodes, 10 pruned nodes, max_depth=5\u001b[0m\n",
      "\u001b[34m[29]#011train-error:0.097499\u001b[0m\n",
      "\u001b[34m[01:26:59] src/tree/updater_prune.cc:74: tree pruning end, 1 roots, 28 extra nodes, 10 pruned nodes, max_depth=5\u001b[0m\n",
      "\u001b[34m[30]#011train-error:0.097638\u001b[0m\n",
      "\u001b[34m[01:26:59] src/tree/updater_prune.cc:74: tree pruning end, 1 roots, 18 extra nodes, 22 pruned nodes, max_depth=5\u001b[0m\n",
      "\u001b[34m[31]#011train-error:0.097395\u001b[0m\n",
      "\u001b[34m[01:26:59] src/tree/updater_prune.cc:74: tree pruning end, 1 roots, 28 extra nodes, 24 pruned nodes, max_depth=5\u001b[0m\n",
      "\u001b[34m[32]#011train-error:0.097222\u001b[0m\n",
      "\u001b[34m[01:26:59] src/tree/updater_prune.cc:74: tree pruning end, 1 roots, 24 extra nodes, 14 pruned nodes, max_depth=5\u001b[0m\n",
      "\u001b[34m[33]#011train-error:0.097118\u001b[0m\n",
      "\u001b[34m[01:26:59] src/tree/updater_prune.cc:74: tree pruning end, 1 roots, 14 extra nodes, 20 pruned nodes, max_depth=5\u001b[0m\n",
      "\u001b[34m[34]#011train-error:0.097014\u001b[0m\n",
      "\u001b[34m[01:26:59] src/tree/updater_prune.cc:74: tree pruning end, 1 roots, 24 extra nodes, 18 pruned nodes, max_depth=5\u001b[0m\n",
      "\u001b[34m[35]#011train-error:0.09684\u001b[0m\n",
      "\u001b[34m[01:26:59] src/tree/updater_prune.cc:74: tree pruning end, 1 roots, 22 extra nodes, 10 pruned nodes, max_depth=5\u001b[0m\n",
      "\u001b[34m[36]#011train-error:0.096667\u001b[0m\n",
      "\u001b[34m[01:26:59] src/tree/updater_prune.cc:74: tree pruning end, 1 roots, 20 extra nodes, 18 pruned nodes, max_depth=5\u001b[0m\n",
      "\u001b[34m[37]#011train-error:0.096736\u001b[0m\n",
      "\u001b[34m[01:26:59] src/tree/updater_prune.cc:74: tree pruning end, 1 roots, 30 extra nodes, 22 pruned nodes, max_depth=5\u001b[0m\n",
      "\u001b[34m[38]#011train-error:0.096563\u001b[0m\n",
      "\u001b[34m[01:26:59] src/tree/updater_prune.cc:74: tree pruning end, 1 roots, 22 extra nodes, 24 pruned nodes, max_depth=5\u001b[0m\n",
      "\u001b[34m[39]#011train-error:0.096355\u001b[0m\n",
      "\u001b[34m[01:26:59] src/tree/updater_prune.cc:74: tree pruning end, 1 roots, 10 extra nodes, 36 pruned nodes, max_depth=3\u001b[0m\n",
      "\u001b[34m[40]#011train-error:0.096285\u001b[0m\n",
      "\u001b[34m[01:26:59] src/tree/updater_prune.cc:74: tree pruning end, 1 roots, 12 extra nodes, 38 pruned nodes, max_depth=4\u001b[0m\n",
      "\u001b[34m[41]#011train-error:0.096528\u001b[0m\n",
      "\u001b[34m[01:26:59] src/tree/updater_prune.cc:74: tree pruning end, 1 roots, 8 extra nodes, 16 pruned nodes, max_depth=4\u001b[0m\n",
      "\u001b[34m[42]#011train-error:0.096355\u001b[0m\n",
      "\u001b[34m[01:26:59] src/tree/updater_prune.cc:74: tree pruning end, 1 roots, 22 extra nodes, 26 pruned nodes, max_depth=5\u001b[0m\n",
      "\u001b[34m[43]#011train-error:0.096459\u001b[0m\n",
      "\u001b[34m[01:27:00] src/tree/updater_prune.cc:74: tree pruning end, 1 roots, 10 extra nodes, 36 pruned nodes, max_depth=5\u001b[0m\n",
      "\u001b[34m[44]#011train-error:0.096355\u001b[0m\n",
      "\u001b[34m[01:27:00] src/tree/updater_prune.cc:74: tree pruning end, 1 roots, 4 extra nodes, 34 pruned nodes, max_depth=2\u001b[0m\n",
      "\u001b[34m[45]#011train-error:0.096216\u001b[0m\n",
      "\u001b[34m[01:27:00] src/tree/updater_prune.cc:74: tree pruning end, 1 roots, 24 extra nodes, 20 pruned nodes, max_depth=5\u001b[0m\n",
      "\u001b[34m[46]#011train-error:0.096077\u001b[0m\n",
      "\u001b[34m[01:27:00] src/tree/updater_prune.cc:74: tree pruning end, 1 roots, 18 extra nodes, 14 pruned nodes, max_depth=5\u001b[0m\n",
      "\u001b[34m[47]#011train-error:0.0958\u001b[0m\n",
      "\u001b[34m[01:27:00] src/tree/updater_prune.cc:74: tree pruning end, 1 roots, 10 extra nodes, 10 pruned nodes, max_depth=5\u001b[0m\n",
      "\u001b[34m[48]#011train-error:0.095904\u001b[0m\n",
      "\u001b[34m[01:27:00] src/tree/updater_prune.cc:74: tree pruning end, 1 roots, 14 extra nodes, 16 pruned nodes, max_depth=5\u001b[0m\n",
      "\u001b[34m[49]#011train-error:0.095904\u001b[0m\n",
      "\u001b[34m[01:27:00] src/tree/updater_prune.cc:74: tree pruning end, 1 roots, 10 extra nodes, 34 pruned nodes, max_depth=4\u001b[0m\n",
      "\u001b[34m[50]#011train-error:0.095834\u001b[0m\n",
      "\u001b[34m[01:27:00] src/tree/updater_prune.cc:74: tree pruning end, 1 roots, 10 extra nodes, 16 pruned nodes, max_depth=5\u001b[0m\n",
      "\u001b[34m[51]#011train-error:0.095765\u001b[0m\n",
      "\u001b[34m[01:27:00] src/tree/updater_prune.cc:74: tree pruning end, 1 roots, 10 extra nodes, 8 pruned nodes, max_depth=5\u001b[0m\n",
      "\u001b[34m[52]#011train-error:0.095904\u001b[0m\n",
      "\u001b[34m[01:27:00] src/tree/updater_prune.cc:74: tree pruning end, 1 roots, 14 extra nodes, 6 pruned nodes, max_depth=5\u001b[0m\n",
      "\u001b[34m[53]#011train-error:0.095834\u001b[0m\n",
      "\u001b[34m[01:27:00] src/tree/updater_prune.cc:74: tree pruning end, 1 roots, 18 extra nodes, 22 pruned nodes, max_depth=5\u001b[0m\n",
      "\u001b[34m[54]#011train-error:0.095834\u001b[0m\n",
      "\u001b[34m[01:27:00] src/tree/updater_prune.cc:74: tree pruning end, 1 roots, 14 extra nodes, 22 pruned nodes, max_depth=5\u001b[0m\n",
      "\u001b[34m[55]#011train-error:0.09573\u001b[0m\n",
      "\u001b[34m[01:27:00] src/tree/updater_prune.cc:74: tree pruning end, 1 roots, 10 extra nodes, 30 pruned nodes, max_depth=5\u001b[0m\n",
      "\u001b[34m[56]#011train-error:0.095626\u001b[0m\n",
      "\u001b[34m[01:27:00] src/tree/updater_prune.cc:74: tree pruning end, 1 roots, 16 extra nodes, 14 pruned nodes, max_depth=5\u001b[0m\n",
      "\u001b[34m[57]#011train-error:0.095696\u001b[0m\n",
      "\u001b[34m[01:27:00] src/tree/updater_prune.cc:74: tree pruning end, 1 roots, 14 extra nodes, 28 pruned nodes, max_depth=5\u001b[0m\n",
      "\u001b[34m[58]#011train-error:0.095661\u001b[0m\n",
      "\u001b[34m[01:27:00] src/tree/updater_prune.cc:74: tree pruning end, 1 roots, 14 extra nodes, 24 pruned nodes, max_depth=4\u001b[0m\n",
      "\u001b[34m[59]#011train-error:0.095592\u001b[0m\n",
      "\u001b[34m[01:27:00] src/tree/updater_prune.cc:74: tree pruning end, 1 roots, 24 extra nodes, 16 pruned nodes, max_depth=5\u001b[0m\n",
      "\u001b[34m[60]#011train-error:0.095522\u001b[0m\n",
      "\u001b[34m[01:27:00] src/tree/updater_prune.cc:74: tree pruning end, 1 roots, 14 extra nodes, 16 pruned nodes, max_depth=4\u001b[0m\n",
      "\u001b[34m[61]#011train-error:0.095383\u001b[0m\n",
      "\u001b[34m[01:27:00] src/tree/updater_prune.cc:74: tree pruning end, 1 roots, 8 extra nodes, 20 pruned nodes, max_depth=4\u001b[0m\n",
      "\u001b[34m[62]#011train-error:0.095314\u001b[0m\n",
      "\u001b[34m[01:27:00] src/tree/updater_prune.cc:74: tree pruning end, 1 roots, 14 extra nodes, 26 pruned nodes, max_depth=5\u001b[0m\n",
      "\u001b[34m[63]#011train-error:0.095661\u001b[0m\n",
      "\u001b[34m[01:27:00] src/tree/updater_prune.cc:74: tree pruning end, 1 roots, 8 extra nodes, 32 pruned nodes, max_depth=4\u001b[0m\n",
      "\u001b[34m[64]#011train-error:0.095661\u001b[0m\n",
      "\u001b[34m[01:27:00] src/tree/updater_prune.cc:74: tree pruning end, 1 roots, 32 extra nodes, 18 pruned nodes, max_depth=5\u001b[0m\n",
      "\u001b[34m[65]#011train-error:0.095418\u001b[0m\n",
      "\u001b[34m[01:27:01] src/tree/updater_prune.cc:74: tree pruning end, 1 roots, 10 extra nodes, 36 pruned nodes, max_depth=3\u001b[0m\n",
      "\u001b[34m[66]#011train-error:0.095314\u001b[0m\n",
      "\u001b[34m[01:27:01] src/tree/updater_prune.cc:74: tree pruning end, 1 roots, 10 extra nodes, 14 pruned nodes, max_depth=5\u001b[0m\n",
      "\u001b[34m[67]#011train-error:0.095349\u001b[0m\n",
      "\u001b[34m[01:27:01] src/tree/updater_prune.cc:74: tree pruning end, 1 roots, 6 extra nodes, 28 pruned nodes, max_depth=3\u001b[0m\n",
      "\u001b[34m[68]#011train-error:0.095314\u001b[0m\n",
      "\u001b[34m[01:27:01] src/tree/updater_prune.cc:74: tree pruning end, 1 roots, 0 extra nodes, 28 pruned nodes, max_depth=0\u001b[0m\n",
      "\u001b[34m[69]#011train-error:0.095314\u001b[0m\n",
      "\u001b[34m[01:27:01] src/tree/updater_prune.cc:74: tree pruning end, 1 roots, 10 extra nodes, 32 pruned nodes, max_depth=3\u001b[0m\n",
      "\u001b[34m[70]#011train-error:0.095383\u001b[0m\n",
      "\u001b[34m[01:27:01] src/tree/updater_prune.cc:74: tree pruning end, 1 roots, 22 extra nodes, 12 pruned nodes, max_depth=5\u001b[0m\n",
      "\u001b[34m[71]#011train-error:0.095453\u001b[0m\n",
      "\u001b[34m[01:27:01] src/tree/updater_prune.cc:74: tree pruning end, 1 roots, 16 extra nodes, 12 pruned nodes, max_depth=5\u001b[0m\n",
      "\u001b[34m[72]#011train-error:0.095349\u001b[0m\n",
      "\u001b[34m[01:27:01] src/tree/updater_prune.cc:74: tree pruning end, 1 roots, 8 extra nodes, 24 pruned nodes, max_depth=4\u001b[0m\n",
      "\u001b[34m[73]#011train-error:0.095245\u001b[0m\n",
      "\u001b[34m[01:27:01] src/tree/updater_prune.cc:74: tree pruning end, 1 roots, 10 extra nodes, 14 pruned nodes, max_depth=5\u001b[0m\n",
      "\u001b[34m[74]#011train-error:0.095175\u001b[0m\n",
      "\u001b[34m[01:27:01] src/tree/updater_prune.cc:74: tree pruning end, 1 roots, 8 extra nodes, 18 pruned nodes, max_depth=4\u001b[0m\n",
      "\u001b[34m[75]#011train-error:0.095071\u001b[0m\n",
      "\u001b[34m[01:27:01] src/tree/updater_prune.cc:74: tree pruning end, 1 roots, 22 extra nodes, 22 pruned nodes, max_depth=5\u001b[0m\n",
      "\u001b[34m[76]#011train-error:0.095175\u001b[0m\n",
      "\u001b[34m[01:27:01] src/tree/updater_prune.cc:74: tree pruning end, 1 roots, 18 extra nodes, 30 pruned nodes, max_depth=5\u001b[0m\n",
      "\u001b[34m[77]#011train-error:0.095002\u001b[0m\n",
      "\u001b[34m[01:27:01] src/tree/updater_prune.cc:74: tree pruning end, 1 roots, 14 extra nodes, 20 pruned nodes, max_depth=4\u001b[0m\n",
      "\u001b[34m[78]#011train-error:0.095037\u001b[0m\n",
      "\u001b[34m[01:27:01] src/tree/updater_prune.cc:74: tree pruning end, 1 roots, 10 extra nodes, 32 pruned nodes, max_depth=5\u001b[0m\n",
      "\u001b[34m[79]#011train-error:0.095037\u001b[0m\n",
      "\u001b[34m[01:27:01] src/tree/updater_prune.cc:74: tree pruning end, 1 roots, 22 extra nodes, 24 pruned nodes, max_depth=5\u001b[0m\n",
      "\u001b[34m[80]#011train-error:0.095002\u001b[0m\n",
      "\u001b[34m[01:27:01] src/tree/updater_prune.cc:74: tree pruning end, 1 roots, 14 extra nodes, 20 pruned nodes, max_depth=5\u001b[0m\n",
      "\u001b[34m[81]#011train-error:0.094794\u001b[0m\n",
      "\u001b[34m[01:27:01] src/tree/updater_prune.cc:74: tree pruning end, 1 roots, 22 extra nodes, 24 pruned nodes, max_depth=5\u001b[0m\n",
      "\u001b[34m[82]#011train-error:0.094759\u001b[0m\n",
      "\u001b[34m[01:27:01] src/tree/updater_prune.cc:74: tree pruning end, 1 roots, 20 extra nodes, 20 pruned nodes, max_depth=5\u001b[0m\n",
      "\u001b[34m[83]#011train-error:0.094933\u001b[0m\n",
      "\u001b[34m[01:27:01] src/tree/updater_prune.cc:74: tree pruning end, 1 roots, 20 extra nodes, 10 pruned nodes, max_depth=5\u001b[0m\n",
      "\u001b[34m[84]#011train-error:0.09469\u001b[0m\n",
      "\u001b[34m[01:27:01] src/tree/updater_prune.cc:74: tree pruning end, 1 roots, 22 extra nodes, 22 pruned nodes, max_depth=5\u001b[0m\n",
      "\u001b[34m[85]#011train-error:0.094759\u001b[0m\n",
      "\u001b[34m[01:27:02] src/tree/updater_prune.cc:74: tree pruning end, 1 roots, 22 extra nodes, 24 pruned nodes, max_depth=5\u001b[0m\n",
      "\u001b[34m[86]#011train-error:0.094482\u001b[0m\n",
      "\u001b[34m[01:27:02] src/tree/updater_prune.cc:74: tree pruning end, 1 roots, 14 extra nodes, 16 pruned nodes, max_depth=5\u001b[0m\n",
      "\u001b[34m[87]#011train-error:0.094447\u001b[0m\n",
      "\u001b[34m[01:27:02] src/tree/updater_prune.cc:74: tree pruning end, 1 roots, 0 extra nodes, 20 pruned nodes, max_depth=0\u001b[0m\n",
      "\u001b[34m[88]#011train-error:0.094482\u001b[0m\n",
      "\u001b[34m[01:27:02] src/tree/updater_prune.cc:74: tree pruning end, 1 roots, 16 extra nodes, 24 pruned nodes, max_depth=5\u001b[0m\n",
      "\u001b[34m[89]#011train-error:0.094378\u001b[0m\n",
      "\u001b[34m[01:27:02] src/tree/updater_prune.cc:74: tree pruning end, 1 roots, 0 extra nodes, 28 pruned nodes, max_depth=0\u001b[0m\n",
      "\u001b[34m[90]#011train-error:0.094343\u001b[0m\n",
      "\u001b[34m[01:27:02] src/tree/updater_prune.cc:74: tree pruning end, 1 roots, 8 extra nodes, 28 pruned nodes, max_depth=4\u001b[0m\n",
      "\u001b[34m[91]#011train-error:0.094274\u001b[0m\n",
      "\u001b[34m[01:27:02] src/tree/updater_prune.cc:74: tree pruning end, 1 roots, 10 extra nodes, 20 pruned nodes, max_depth=5\u001b[0m\n",
      "\u001b[34m[92]#011train-error:0.094239\u001b[0m\n",
      "\u001b[34m[01:27:02] src/tree/updater_prune.cc:74: tree pruning end, 1 roots, 16 extra nodes, 32 pruned nodes, max_depth=5\u001b[0m\n",
      "\u001b[34m[93]#011train-error:0.094169\u001b[0m\n",
      "\u001b[34m[01:27:02] src/tree/updater_prune.cc:74: tree pruning end, 1 roots, 14 extra nodes, 28 pruned nodes, max_depth=5\u001b[0m\n",
      "\u001b[34m[94]#011train-error:0.094169\u001b[0m\n",
      "\u001b[34m[01:27:02] src/tree/updater_prune.cc:74: tree pruning end, 1 roots, 10 extra nodes, 14 pruned nodes, max_depth=5\u001b[0m\n",
      "\u001b[34m[95]#011train-error:0.094204\u001b[0m\n",
      "\u001b[34m[01:27:02] src/tree/updater_prune.cc:74: tree pruning end, 1 roots, 0 extra nodes, 28 pruned nodes, max_depth=0\u001b[0m\n",
      "\u001b[34m[96]#011train-error:0.094204\u001b[0m\n",
      "\u001b[34m[01:27:02] src/tree/updater_prune.cc:74: tree pruning end, 1 roots, 26 extra nodes, 20 pruned nodes, max_depth=5\u001b[0m\n",
      "\u001b[34m[97]#011train-error:0.093927\u001b[0m\n",
      "\u001b[34m[01:27:02] src/tree/updater_prune.cc:74: tree pruning end, 1 roots, 0 extra nodes, 38 pruned nodes, max_depth=0\u001b[0m\n",
      "\u001b[34m[98]#011train-error:0.093927\u001b[0m\n",
      "\u001b[34m[01:27:02] src/tree/updater_prune.cc:74: tree pruning end, 1 roots, 0 extra nodes, 32 pruned nodes, max_depth=0\u001b[0m\n",
      "\u001b[34m[99]#011train-error:0.093892\u001b[0m\n",
      "\n",
      "2023-02-26 01:27:18 Uploading - Uploading generated training model\n",
      "2023-02-26 01:27:18 Completed - Training job completed\n",
      "Training seconds: 97\n",
      "Billable seconds: 97\n"
     ]
    }
   ],
   "source": [
    "xgb.fit({'train': s3_input_train})"
   ]
  },
  {
   "cell_type": "code",
   "execution_count": null,
   "metadata": {},
   "outputs": [],
   "source": [
    ""
   ]
  }
 ],
 "metadata": {
  "availableInstances": [
   {
    "_defaultOrder": 0.0,
    "_isFastLaunch": true,
    "category": "General purpose",
    "gpuNum": 0.0,
    "memoryGiB": 4.0,
    "name": "ml.t3.medium",
    "vcpuNum": 2.0
   },
   {
    "_defaultOrder": 1.0,
    "_isFastLaunch": false,
    "category": "General purpose",
    "gpuNum": 0.0,
    "memoryGiB": 8.0,
    "name": "ml.t3.large",
    "vcpuNum": 2.0
   },
   {
    "_defaultOrder": 2.0,
    "_isFastLaunch": false,
    "category": "General purpose",
    "gpuNum": 0.0,
    "memoryGiB": 16.0,
    "name": "ml.t3.xlarge",
    "vcpuNum": 4.0
   },
   {
    "_defaultOrder": 3.0,
    "_isFastLaunch": false,
    "category": "General purpose",
    "gpuNum": 0.0,
    "memoryGiB": 32.0,
    "name": "ml.t3.2xlarge",
    "vcpuNum": 8.0
   },
   {
    "_defaultOrder": 4.0,
    "_isFastLaunch": true,
    "category": "General purpose",
    "gpuNum": 0.0,
    "memoryGiB": 8.0,
    "name": "ml.m5.large",
    "vcpuNum": 2.0
   },
   {
    "_defaultOrder": 5.0,
    "_isFastLaunch": false,
    "category": "General purpose",
    "gpuNum": 0.0,
    "memoryGiB": 16.0,
    "name": "ml.m5.xlarge",
    "vcpuNum": 4.0
   },
   {
    "_defaultOrder": 6.0,
    "_isFastLaunch": false,
    "category": "General purpose",
    "gpuNum": 0.0,
    "memoryGiB": 32.0,
    "name": "ml.m5.2xlarge",
    "vcpuNum": 8.0
   },
   {
    "_defaultOrder": 7.0,
    "_isFastLaunch": false,
    "category": "General purpose",
    "gpuNum": 0.0,
    "memoryGiB": 64.0,
    "name": "ml.m5.4xlarge",
    "vcpuNum": 16.0
   },
   {
    "_defaultOrder": 8.0,
    "_isFastLaunch": false,
    "category": "General purpose",
    "gpuNum": 0.0,
    "memoryGiB": 128.0,
    "name": "ml.m5.8xlarge",
    "vcpuNum": 32.0
   },
   {
    "_defaultOrder": 9.0,
    "_isFastLaunch": false,
    "category": "General purpose",
    "gpuNum": 0.0,
    "memoryGiB": 192.0,
    "name": "ml.m5.12xlarge",
    "vcpuNum": 48.0
   },
   {
    "_defaultOrder": 10.0,
    "_isFastLaunch": false,
    "category": "General purpose",
    "gpuNum": 0.0,
    "memoryGiB": 256.0,
    "name": "ml.m5.16xlarge",
    "vcpuNum": 64.0
   },
   {
    "_defaultOrder": 11.0,
    "_isFastLaunch": false,
    "category": "General purpose",
    "gpuNum": 0.0,
    "memoryGiB": 384.0,
    "name": "ml.m5.24xlarge",
    "vcpuNum": 96.0
   },
   {
    "_defaultOrder": 12.0,
    "_isFastLaunch": false,
    "category": "General purpose",
    "gpuNum": 0.0,
    "memoryGiB": 8.0,
    "name": "ml.m5d.large",
    "vcpuNum": 2.0
   },
   {
    "_defaultOrder": 13.0,
    "_isFastLaunch": false,
    "category": "General purpose",
    "gpuNum": 0.0,
    "memoryGiB": 16.0,
    "name": "ml.m5d.xlarge",
    "vcpuNum": 4.0
   },
   {
    "_defaultOrder": 14.0,
    "_isFastLaunch": false,
    "category": "General purpose",
    "gpuNum": 0.0,
    "memoryGiB": 32.0,
    "name": "ml.m5d.2xlarge",
    "vcpuNum": 8.0
   },
   {
    "_defaultOrder": 15.0,
    "_isFastLaunch": false,
    "category": "General purpose",
    "gpuNum": 0.0,
    "memoryGiB": 64.0,
    "name": "ml.m5d.4xlarge",
    "vcpuNum": 16.0
   },
   {
    "_defaultOrder": 16.0,
    "_isFastLaunch": false,
    "category": "General purpose",
    "gpuNum": 0.0,
    "memoryGiB": 128.0,
    "name": "ml.m5d.8xlarge",
    "vcpuNum": 32.0
   },
   {
    "_defaultOrder": 17.0,
    "_isFastLaunch": false,
    "category": "General purpose",
    "gpuNum": 0.0,
    "memoryGiB": 192.0,
    "name": "ml.m5d.12xlarge",
    "vcpuNum": 48.0
   },
   {
    "_defaultOrder": 18.0,
    "_isFastLaunch": false,
    "category": "General purpose",
    "gpuNum": 0.0,
    "memoryGiB": 256.0,
    "name": "ml.m5d.16xlarge",
    "vcpuNum": 64.0
   },
   {
    "_defaultOrder": 19.0,
    "_isFastLaunch": false,
    "category": "General purpose",
    "gpuNum": 0.0,
    "memoryGiB": 384.0,
    "name": "ml.m5d.24xlarge",
    "vcpuNum": 96.0
   },
   {
    "_defaultOrder": 20.0,
    "_isFastLaunch": true,
    "category": "Compute optimized",
    "gpuNum": 0.0,
    "memoryGiB": 4.0,
    "name": "ml.c5.large",
    "vcpuNum": 2.0
   },
   {
    "_defaultOrder": 21.0,
    "_isFastLaunch": false,
    "category": "Compute optimized",
    "gpuNum": 0.0,
    "memoryGiB": 8.0,
    "name": "ml.c5.xlarge",
    "vcpuNum": 4.0
   },
   {
    "_defaultOrder": 22.0,
    "_isFastLaunch": false,
    "category": "Compute optimized",
    "gpuNum": 0.0,
    "memoryGiB": 16.0,
    "name": "ml.c5.2xlarge",
    "vcpuNum": 8.0
   },
   {
    "_defaultOrder": 23.0,
    "_isFastLaunch": false,
    "category": "Compute optimized",
    "gpuNum": 0.0,
    "memoryGiB": 32.0,
    "name": "ml.c5.4xlarge",
    "vcpuNum": 16.0
   },
   {
    "_defaultOrder": 24.0,
    "_isFastLaunch": false,
    "category": "Compute optimized",
    "gpuNum": 0.0,
    "memoryGiB": 72.0,
    "name": "ml.c5.9xlarge",
    "vcpuNum": 36.0
   },
   {
    "_defaultOrder": 25.0,
    "_isFastLaunch": false,
    "category": "Compute optimized",
    "gpuNum": 0.0,
    "memoryGiB": 96.0,
    "name": "ml.c5.12xlarge",
    "vcpuNum": 48.0
   },
   {
    "_defaultOrder": 26.0,
    "_isFastLaunch": false,
    "category": "Compute optimized",
    "gpuNum": 0.0,
    "memoryGiB": 144.0,
    "name": "ml.c5.18xlarge",
    "vcpuNum": 72.0
   },
   {
    "_defaultOrder": 27.0,
    "_isFastLaunch": false,
    "category": "Compute optimized",
    "gpuNum": 0.0,
    "memoryGiB": 192.0,
    "name": "ml.c5.24xlarge",
    "vcpuNum": 96.0
   },
   {
    "_defaultOrder": 28.0,
    "_isFastLaunch": true,
    "category": "Accelerated computing",
    "gpuNum": 1.0,
    "memoryGiB": 16.0,
    "name": "ml.g4dn.xlarge",
    "vcpuNum": 4.0
   },
   {
    "_defaultOrder": 29.0,
    "_isFastLaunch": false,
    "category": "Accelerated computing",
    "gpuNum": 1.0,
    "memoryGiB": 32.0,
    "name": "ml.g4dn.2xlarge",
    "vcpuNum": 8.0
   },
   {
    "_defaultOrder": 30.0,
    "_isFastLaunch": false,
    "category": "Accelerated computing",
    "gpuNum": 1.0,
    "memoryGiB": 64.0,
    "name": "ml.g4dn.4xlarge",
    "vcpuNum": 16.0
   },
   {
    "_defaultOrder": 31.0,
    "_isFastLaunch": false,
    "category": "Accelerated computing",
    "gpuNum": 1.0,
    "memoryGiB": 128.0,
    "name": "ml.g4dn.8xlarge",
    "vcpuNum": 32.0
   },
   {
    "_defaultOrder": 32.0,
    "_isFastLaunch": false,
    "category": "Accelerated computing",
    "gpuNum": 4.0,
    "memoryGiB": 192.0,
    "name": "ml.g4dn.12xlarge",
    "vcpuNum": 48.0
   },
   {
    "_defaultOrder": 33.0,
    "_isFastLaunch": false,
    "category": "Accelerated computing",
    "gpuNum": 1.0,
    "memoryGiB": 256.0,
    "name": "ml.g4dn.16xlarge",
    "vcpuNum": 64.0
   },
   {
    "_defaultOrder": 34.0,
    "_isFastLaunch": false,
    "category": "Accelerated computing",
    "gpuNum": 1.0,
    "memoryGiB": 61.0,
    "name": "ml.p3.2xlarge",
    "vcpuNum": 8.0
   },
   {
    "_defaultOrder": 35.0,
    "_isFastLaunch": false,
    "category": "Accelerated computing",
    "gpuNum": 4.0,
    "memoryGiB": 244.0,
    "name": "ml.p3.8xlarge",
    "vcpuNum": 32.0
   },
   {
    "_defaultOrder": 36.0,
    "_isFastLaunch": false,
    "category": "Accelerated computing",
    "gpuNum": 8.0,
    "memoryGiB": 488.0,
    "name": "ml.p3.16xlarge",
    "vcpuNum": 64.0
   },
   {
    "_defaultOrder": 37.0,
    "_isFastLaunch": false,
    "category": "Accelerated computing",
    "gpuNum": 8.0,
    "memoryGiB": 768.0,
    "name": "ml.p3dn.24xlarge",
    "vcpuNum": 96.0
   },
   {
    "_defaultOrder": 38.0,
    "_isFastLaunch": false,
    "category": "Memory Optimized",
    "gpuNum": 0.0,
    "memoryGiB": 16.0,
    "name": "ml.r5.large",
    "vcpuNum": 2.0
   },
   {
    "_defaultOrder": 39.0,
    "_isFastLaunch": false,
    "category": "Memory Optimized",
    "gpuNum": 0.0,
    "memoryGiB": 32.0,
    "name": "ml.r5.xlarge",
    "vcpuNum": 4.0
   },
   {
    "_defaultOrder": 40.0,
    "_isFastLaunch": false,
    "category": "Memory Optimized",
    "gpuNum": 0.0,
    "memoryGiB": 64.0,
    "name": "ml.r5.2xlarge",
    "vcpuNum": 8.0
   },
   {
    "_defaultOrder": 41.0,
    "_isFastLaunch": false,
    "category": "Memory Optimized",
    "gpuNum": 0.0,
    "memoryGiB": 128.0,
    "name": "ml.r5.4xlarge",
    "vcpuNum": 16.0
   },
   {
    "_defaultOrder": 42.0,
    "_isFastLaunch": false,
    "category": "Memory Optimized",
    "gpuNum": 0.0,
    "memoryGiB": 256.0,
    "name": "ml.r5.8xlarge",
    "vcpuNum": 32.0
   },
   {
    "_defaultOrder": 43.0,
    "_isFastLaunch": false,
    "category": "Memory Optimized",
    "gpuNum": 0.0,
    "memoryGiB": 384.0,
    "name": "ml.r5.12xlarge",
    "vcpuNum": 48.0
   },
   {
    "_defaultOrder": 44.0,
    "_isFastLaunch": false,
    "category": "Memory Optimized",
    "gpuNum": 0.0,
    "memoryGiB": 512.0,
    "name": "ml.r5.16xlarge",
    "vcpuNum": 64.0
   },
   {
    "_defaultOrder": 45.0,
    "_isFastLaunch": false,
    "category": "Memory Optimized",
    "gpuNum": 0.0,
    "memoryGiB": 768.0,
    "name": "ml.r5.24xlarge",
    "vcpuNum": 96.0
   },
   {
    "_defaultOrder": 46.0,
    "_isFastLaunch": false,
    "category": "Accelerated computing",
    "gpuNum": 1.0,
    "memoryGiB": 16.0,
    "name": "ml.g5.xlarge",
    "vcpuNum": 4.0
   },
   {
    "_defaultOrder": 47.0,
    "_isFastLaunch": false,
    "category": "Accelerated computing",
    "gpuNum": 1.0,
    "memoryGiB": 32.0,
    "name": "ml.g5.2xlarge",
    "vcpuNum": 8.0
   },
   {
    "_defaultOrder": 48.0,
    "_isFastLaunch": false,
    "category": "Accelerated computing",
    "gpuNum": 1.0,
    "memoryGiB": 64.0,
    "name": "ml.g5.4xlarge",
    "vcpuNum": 16.0
   },
   {
    "_defaultOrder": 49.0,
    "_isFastLaunch": false,
    "category": "Accelerated computing",
    "gpuNum": 1.0,
    "memoryGiB": 128.0,
    "name": "ml.g5.8xlarge",
    "vcpuNum": 32.0
   },
   {
    "_defaultOrder": 50.0,
    "_isFastLaunch": false,
    "category": "Accelerated computing",
    "gpuNum": 1.0,
    "memoryGiB": 256.0,
    "name": "ml.g5.16xlarge",
    "vcpuNum": 64.0
   },
   {
    "_defaultOrder": 51.0,
    "_isFastLaunch": false,
    "category": "Accelerated computing",
    "gpuNum": 4.0,
    "memoryGiB": 192.0,
    "name": "ml.g5.12xlarge",
    "vcpuNum": 48.0
   },
   {
    "_defaultOrder": 52.0,
    "_isFastLaunch": false,
    "category": "Accelerated computing",
    "gpuNum": 4.0,
    "memoryGiB": 384.0,
    "name": "ml.g5.24xlarge",
    "vcpuNum": 96.0
   },
   {
    "_defaultOrder": 53.0,
    "_isFastLaunch": false,
    "category": "Accelerated computing",
    "gpuNum": 8.0,
    "memoryGiB": 768.0,
    "name": "ml.g5.48xlarge",
    "vcpuNum": 192.0
   }
  ],
  "instance_type": "ml.t3.medium",
  "kernelspec": {
   "display_name": "Python 3 (Data Science)",
   "language": "python",
   "name": "python3__SAGEMAKER_INTERNAL__arn:aws:sagemaker:us-east-1:081325390199:image/datascience-1.0"
  },
  "language_info": {
   "codemirror_mode": {
    "name": "ipython",
    "version": 3.0
   },
   "file_extension": ".py",
   "mimetype": "text/x-python",
   "name": "python",
   "nbconvert_exporter": "python",
   "pygments_lexer": "ipython3",
   "version": "3.7.10"
  }
 },
 "nbformat": 4,
 "nbformat_minor": 0
}